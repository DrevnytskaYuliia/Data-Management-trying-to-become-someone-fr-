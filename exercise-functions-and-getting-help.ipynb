{
 "cells": [
  {
   "cell_type": "markdown",
   "id": "2960488e",
   "metadata": {
    "papermill": {
     "duration": 0.003703,
     "end_time": "2025-03-28T23:49:15.206940",
     "exception": false,
     "start_time": "2025-03-28T23:49:15.203237",
     "status": "completed"
    },
    "tags": []
   },
   "source": [
    "**This notebook is an exercise in the [Python](https://www.kaggle.com/learn/python) course.  You can reference the tutorial at [this link](https://www.kaggle.com/colinmorris/functions-and-getting-help).**\n",
    "\n",
    "---\n"
   ]
  },
  {
   "cell_type": "markdown",
   "id": "5f69fb05",
   "metadata": {
    "papermill": {
     "duration": 0.002505,
     "end_time": "2025-03-28T23:49:15.212444",
     "exception": false,
     "start_time": "2025-03-28T23:49:15.209939",
     "status": "completed"
    },
    "tags": []
   },
   "source": [
    "Functions are powerful. Try writing some yourself.\n",
    "\n",
    "As before, don't forget to run the setup code below before jumping into question 1."
   ]
  },
  {
   "cell_type": "code",
   "execution_count": 1,
   "id": "fb11b575",
   "metadata": {
    "_kg_hide-input": true,
    "_kg_hide-output": true,
    "execution": {
     "iopub.execute_input": "2025-03-28T23:49:15.218790Z",
     "iopub.status.busy": "2025-03-28T23:49:15.218504Z",
     "iopub.status.idle": "2025-03-28T23:49:16.032554Z",
     "shell.execute_reply": "2025-03-28T23:49:16.031544Z"
    },
    "papermill": {
     "duration": 0.819146,
     "end_time": "2025-03-28T23:49:16.034231",
     "exception": false,
     "start_time": "2025-03-28T23:49:15.215085",
     "status": "completed"
    },
    "tags": []
   },
   "outputs": [
    {
     "name": "stdout",
     "output_type": "stream",
     "text": [
      "Setup complete.\n"
     ]
    }
   ],
   "source": [
    "# SETUP. You don't need to worry for now about what this code does or how it works.\n",
    "from learntools.core import binder; binder.bind(globals())\n",
    "from learntools.python.ex2 import *\n",
    "print('Setup complete.')"
   ]
  },
  {
   "cell_type": "markdown",
   "id": "62eecd9c",
   "metadata": {
    "papermill": {
     "duration": 0.002655,
     "end_time": "2025-03-28T23:49:16.040208",
     "exception": false,
     "start_time": "2025-03-28T23:49:16.037553",
     "status": "completed"
    },
    "tags": []
   },
   "source": [
    "# 1.\n",
    "\n",
    "Complete the body of the following function according to its docstring.\n",
    "\n",
    "HINT: Python has a built-in function `round`."
   ]
  },
  {
   "cell_type": "code",
   "execution_count": 2,
   "id": "64b5373d",
   "metadata": {
    "execution": {
     "iopub.execute_input": "2025-03-28T23:49:16.046722Z",
     "iopub.status.busy": "2025-03-28T23:49:16.046360Z",
     "iopub.status.idle": "2025-03-28T23:49:16.050454Z",
     "shell.execute_reply": "2025-03-28T23:49:16.049721Z"
    },
    "papermill": {
     "duration": 0.008662,
     "end_time": "2025-03-28T23:49:16.051656",
     "exception": false,
     "start_time": "2025-03-28T23:49:16.042994",
     "status": "completed"
    },
    "tags": []
   },
   "outputs": [
    {
     "name": "stdout",
     "output_type": "stream",
     "text": [
      "Help on built-in function round in module builtins:\n",
      "\n",
      "round(number, ndigits=None)\n",
      "    Round a number to a given precision in decimal digits.\n",
      "    \n",
      "    The return value is an integer if ndigits is omitted or None.  Otherwise\n",
      "    the return value has the same type as the number.  ndigits may be negative.\n",
      "\n"
     ]
    }
   ],
   "source": [
    "help(round)"
   ]
  },
  {
   "cell_type": "code",
   "execution_count": 3,
   "id": "02f9a4e5",
   "metadata": {
    "execution": {
     "iopub.execute_input": "2025-03-28T23:49:16.058753Z",
     "iopub.status.busy": "2025-03-28T23:49:16.058517Z",
     "iopub.status.idle": "2025-03-28T23:49:16.066378Z",
     "shell.execute_reply": "2025-03-28T23:49:16.065510Z"
    },
    "papermill": {
     "duration": 0.012635,
     "end_time": "2025-03-28T23:49:16.067618",
     "exception": false,
     "start_time": "2025-03-28T23:49:16.054983",
     "status": "completed"
    },
    "tags": []
   },
   "outputs": [
    {
     "name": "stdout",
     "output_type": "stream",
     "text": [
      "3.14\n"
     ]
    },
    {
     "data": {
      "application/javascript": [
       "parent.postMessage({\"jupyterEvent\": \"custom.exercise_interaction\", \"data\": {\"outcomeType\": 1, \"valueTowardsCompletion\": 0.16666666666666666, \"interactionType\": 1, \"questionType\": 2, \"questionId\": \"1_RoundFunctionProblem\", \"learnToolsVersion\": \"0.3.4\", \"failureMessage\": \"\", \"exceptionClass\": \"\", \"trace\": \"\"}}, \"*\")"
      ],
      "text/plain": [
       "<IPython.core.display.Javascript object>"
      ]
     },
     "metadata": {},
     "output_type": "display_data"
    },
    {
     "data": {
      "text/markdown": [
       "<span style=\"color:#33cc33\">Correct</span>"
      ],
      "text/plain": [
       "Correct"
      ]
     },
     "metadata": {},
     "output_type": "display_data"
    }
   ],
   "source": [
    "def round_to_two_places(num):\n",
    "    \"\"\"Return the given number rounded to two decimal places.\n",
    "\n",
    "    >>> round_to_two_places(3.14159)\n",
    "    3.14\n",
    "    \"\"\"\n",
    "    return round(num, 2)  # ← This must be indented\n",
    "\n",
    "print(round_to_two_places(3.14159))\n",
    "\n",
    "# Check your answer\n",
    "q1.check()"
   ]
  },
  {
   "cell_type": "code",
   "execution_count": 4,
   "id": "401b2dd6",
   "metadata": {
    "execution": {
     "iopub.execute_input": "2025-03-28T23:49:16.075154Z",
     "iopub.status.busy": "2025-03-28T23:49:16.074865Z",
     "iopub.status.idle": "2025-03-28T23:49:16.078145Z",
     "shell.execute_reply": "2025-03-28T23:49:16.077426Z"
    },
    "papermill": {
     "duration": 0.008256,
     "end_time": "2025-03-28T23:49:16.079298",
     "exception": false,
     "start_time": "2025-03-28T23:49:16.071042",
     "status": "completed"
    },
    "tags": []
   },
   "outputs": [],
   "source": [
    "# Uncomment the following for a hint\n",
    "#q1.hint()\n",
    "# Or uncomment the following to peek at the solution\n",
    "#q1.solution()"
   ]
  },
  {
   "cell_type": "markdown",
   "id": "fdfdc23f",
   "metadata": {
    "papermill": {
     "duration": 0.002932,
     "end_time": "2025-03-28T23:49:16.085802",
     "exception": false,
     "start_time": "2025-03-28T23:49:16.082870",
     "status": "completed"
    },
    "tags": []
   },
   "source": [
    "# 2.\n",
    "The help for `round` says that `ndigits` (the second argument) may be negative.\n",
    "What do you think will happen when it is? Try some examples in the following cell."
   ]
  },
  {
   "cell_type": "code",
   "execution_count": 5,
   "id": "c0ac35dd",
   "metadata": {
    "execution": {
     "iopub.execute_input": "2025-03-28T23:49:16.092693Z",
     "iopub.status.busy": "2025-03-28T23:49:16.092417Z",
     "iopub.status.idle": "2025-03-28T23:49:16.096990Z",
     "shell.execute_reply": "2025-03-28T23:49:16.096051Z"
    },
    "papermill": {
     "duration": 0.009405,
     "end_time": "2025-03-28T23:49:16.098151",
     "exception": false,
     "start_time": "2025-03-28T23:49:16.088746",
     "status": "completed"
    },
    "tags": []
   },
   "outputs": [
    {
     "name": "stdout",
     "output_type": "stream",
     "text": [
      "0.0\n"
     ]
    }
   ],
   "source": [
    "def round_to_two_places(num):\n",
    "    return round(num, -1)\n",
    "    \n",
    "print(round_to_two_places(3.14159))\n",
    "\n",
    "\n"
   ]
  },
  {
   "cell_type": "markdown",
   "id": "f267ac53",
   "metadata": {
    "papermill": {
     "duration": 0.002849,
     "end_time": "2025-03-28T23:49:16.104285",
     "exception": false,
     "start_time": "2025-03-28T23:49:16.101436",
     "status": "completed"
    },
    "tags": []
   },
   "source": [
    "Can you think of a case where this would be useful?  Once you're ready, run the code cell below to see the answer and to receive credit for completing the problem."
   ]
  },
  {
   "cell_type": "code",
   "execution_count": 6,
   "id": "d4defe69",
   "metadata": {
    "execution": {
     "iopub.execute_input": "2025-03-28T23:49:16.111528Z",
     "iopub.status.busy": "2025-03-28T23:49:16.111233Z",
     "iopub.status.idle": "2025-03-28T23:49:16.117292Z",
     "shell.execute_reply": "2025-03-28T23:49:16.116515Z"
    },
    "papermill": {
     "duration": 0.011067,
     "end_time": "2025-03-28T23:49:16.118420",
     "exception": false,
     "start_time": "2025-03-28T23:49:16.107353",
     "status": "completed"
    },
    "tags": []
   },
   "outputs": [
    {
     "data": {
      "application/javascript": [
       "parent.postMessage({\"jupyterEvent\": \"custom.exercise_interaction\", \"data\": {\"interactionType\": 3, \"questionType\": 4, \"questionId\": \"2_RoundNdigitsProblem\", \"learnToolsVersion\": \"0.3.4\", \"valueTowardsCompletion\": 0.0, \"failureMessage\": \"\", \"exceptionClass\": \"\", \"trace\": \"\", \"outcomeType\": 4}}, \"*\")"
      ],
      "text/plain": [
       "<IPython.core.display.Javascript object>"
      ]
     },
     "metadata": {},
     "output_type": "display_data"
    },
    {
     "data": {
      "text/markdown": [
       "<span style=\"color:#33cc99\">Solution:</span> As you've seen, `ndigits=-1` rounds to the nearest 10, `ndigits=-2` rounds to the nearest 100 and so on. Where might this be useful? Suppose we're dealing with large numbers:\n",
       "\n",
       "> The area of Finland is 338,424 km²  \n",
       "> The area of Greenland is 2,166,086 km²\n",
       "\n",
       "We probably don't care whether it's really 338,424, or 338,425, or 338,177. All those digits of accuracy are just distracting. We can chop them off by calling `round()` with `ndigits=-3`:\n",
       "\n",
       "> The area of Finland is 338,000 km²  \n",
       "> The area of Greenland is 2,166,000 km²\n",
       "\n",
       "(We'll talk about how we would get the commas later when we talk about string formatting :))\n"
      ],
      "text/plain": [
       "Solution: As you've seen, `ndigits=-1` rounds to the nearest 10, `ndigits=-2` rounds to the nearest 100 and so on. Where might this be useful? Suppose we're dealing with large numbers:\n",
       "\n",
       "> The area of Finland is 338,424 km²  \n",
       "> The area of Greenland is 2,166,086 km²\n",
       "\n",
       "We probably don't care whether it's really 338,424, or 338,425, or 338,177. All those digits of accuracy are just distracting. We can chop them off by calling `round()` with `ndigits=-3`:\n",
       "\n",
       "> The area of Finland is 338,000 km²  \n",
       "> The area of Greenland is 2,166,000 km²\n",
       "\n",
       "(We'll talk about how we would get the commas later when we talk about string formatting :))"
      ]
     },
     "metadata": {},
     "output_type": "display_data"
    }
   ],
   "source": [
    "# Check your answer (Run this code cell to receive credit!)\n",
    "q2.solution()"
   ]
  },
  {
   "cell_type": "markdown",
   "id": "b7027d47",
   "metadata": {
    "papermill": {
     "duration": 0.003093,
     "end_time": "2025-03-28T23:49:16.124870",
     "exception": false,
     "start_time": "2025-03-28T23:49:16.121777",
     "status": "completed"
    },
    "tags": []
   },
   "source": [
    "# 3.\n",
    "\n",
    "In the previous exercise, the candy-sharing friends Alice, Bob and Carol tried to split candies evenly. For the sake of their friendship, any candies left over would be smashed. For example, if they collectively bring home 91 candies, they'll take 30 each and smash 1.\n",
    "\n",
    "Below is a simple function that will calculate the number of candies to smash for *any* number of total candies.\n",
    "\n",
    "Modify it so that it optionally takes a second argument representing the number of friends the candies are being split between. If no second argument is provided, it should assume 3 friends, as before.\n",
    "\n",
    "Update the docstring to reflect this new behaviour."
   ]
  },
  {
   "cell_type": "code",
   "execution_count": 7,
   "id": "c6966f35",
   "metadata": {
    "execution": {
     "iopub.execute_input": "2025-03-28T23:49:16.132548Z",
     "iopub.status.busy": "2025-03-28T23:49:16.132289Z",
     "iopub.status.idle": "2025-03-28T23:49:16.138591Z",
     "shell.execute_reply": "2025-03-28T23:49:16.137649Z"
    },
    "papermill": {
     "duration": 0.011793,
     "end_time": "2025-03-28T23:49:16.140129",
     "exception": false,
     "start_time": "2025-03-28T23:49:16.128336",
     "status": "completed"
    },
    "tags": []
   },
   "outputs": [
    {
     "data": {
      "application/javascript": [
       "parent.postMessage({\"jupyterEvent\": \"custom.exercise_interaction\", \"data\": {\"outcomeType\": 1, \"valueTowardsCompletion\": 0.16666666666666666, \"interactionType\": 1, \"questionType\": 2, \"questionId\": \"3_CandySmashingFunctionProblem\", \"learnToolsVersion\": \"0.3.4\", \"failureMessage\": \"\", \"exceptionClass\": \"\", \"trace\": \"\"}}, \"*\")"
      ],
      "text/plain": [
       "<IPython.core.display.Javascript object>"
      ]
     },
     "metadata": {},
     "output_type": "display_data"
    },
    {
     "data": {
      "text/markdown": [
       "<span style=\"color:#33cc33\">Correct</span>"
      ],
      "text/plain": [
       "Correct"
      ]
     },
     "metadata": {},
     "output_type": "display_data"
    }
   ],
   "source": [
    "def to_smash(total_candies, n_friends = 3 ):\n",
    "    \"\"\"Return the number of leftover candies that must be smashed after distributing\n",
    "    the given number of candies evenly between 3 friends.\n",
    "    \n",
    "    >>> to_smash(91)\n",
    "    1\n",
    "    \"\"\"\n",
    "    return total_candies % n_friends\n",
    "\n",
    "# Check your answer\n",
    "q3.check()"
   ]
  },
  {
   "cell_type": "code",
   "execution_count": 8,
   "id": "e1237544",
   "metadata": {
    "execution": {
     "iopub.execute_input": "2025-03-28T23:49:16.148818Z",
     "iopub.status.busy": "2025-03-28T23:49:16.148519Z",
     "iopub.status.idle": "2025-03-28T23:49:16.152435Z",
     "shell.execute_reply": "2025-03-28T23:49:16.151586Z"
    },
    "papermill": {
     "duration": 0.009398,
     "end_time": "2025-03-28T23:49:16.153670",
     "exception": false,
     "start_time": "2025-03-28T23:49:16.144272",
     "status": "completed"
    },
    "tags": []
   },
   "outputs": [],
   "source": [
    "#q3.hint()"
   ]
  },
  {
   "cell_type": "code",
   "execution_count": 9,
   "id": "84bea694",
   "metadata": {
    "execution": {
     "iopub.execute_input": "2025-03-28T23:49:16.162552Z",
     "iopub.status.busy": "2025-03-28T23:49:16.162235Z",
     "iopub.status.idle": "2025-03-28T23:49:16.165808Z",
     "shell.execute_reply": "2025-03-28T23:49:16.165057Z"
    },
    "papermill": {
     "duration": 0.00933,
     "end_time": "2025-03-28T23:49:16.167078",
     "exception": false,
     "start_time": "2025-03-28T23:49:16.157748",
     "status": "completed"
    },
    "tags": []
   },
   "outputs": [],
   "source": [
    "\n",
    "#q3.solution()"
   ]
  },
  {
   "cell_type": "markdown",
   "id": "04ecc782",
   "metadata": {
    "papermill": {
     "duration": 0.003441,
     "end_time": "2025-03-28T23:49:16.174661",
     "exception": false,
     "start_time": "2025-03-28T23:49:16.171220",
     "status": "completed"
    },
    "tags": []
   },
   "source": [
    "# 4. (Optional)\n",
    "\n",
    "It may not be fun, but reading and understanding error messages will be an important part of your Python career.\n",
    "\n",
    "Each code cell below contains some commented buggy code. For each cell...\n",
    "\n",
    "1. Read the code and predict what you think will happen when it's run.\n",
    "2. Then uncomment the code and run it to see what happens. (**Tip**: In the kernel editor, you can highlight several lines and press `ctrl`+`/` to toggle commenting.)\n",
    "3. Fix the code (so that it accomplishes its intended purpose without throwing an exception)\n",
    "\n",
    "<!-- TODO: should this be autochecked? Delta is probably pretty small. -->"
   ]
  },
  {
   "cell_type": "code",
   "execution_count": 10,
   "id": "c5bbe417",
   "metadata": {
    "execution": {
     "iopub.execute_input": "2025-03-28T23:49:16.184379Z",
     "iopub.status.busy": "2025-03-28T23:49:16.184060Z",
     "iopub.status.idle": "2025-03-28T23:49:16.189076Z",
     "shell.execute_reply": "2025-03-28T23:49:16.188243Z"
    },
    "papermill": {
     "duration": 0.011202,
     "end_time": "2025-03-28T23:49:16.190186",
     "exception": false,
     "start_time": "2025-03-28T23:49:16.178984",
     "status": "completed"
    },
    "tags": []
   },
   "outputs": [
    {
     "data": {
      "text/plain": [
       "10.0"
      ]
     },
     "execution_count": 10,
     "metadata": {},
     "output_type": "execute_result"
    }
   ],
   "source": [
    "round(9.9999, 2)"
   ]
  },
  {
   "cell_type": "code",
   "execution_count": 11,
   "id": "5b3c5259",
   "metadata": {
    "execution": {
     "iopub.execute_input": "2025-03-28T23:49:16.198350Z",
     "iopub.status.busy": "2025-03-28T23:49:16.198117Z",
     "iopub.status.idle": "2025-03-28T23:49:16.202541Z",
     "shell.execute_reply": "2025-03-28T23:49:16.201765Z"
    },
    "papermill": {
     "duration": 0.009606,
     "end_time": "2025-03-28T23:49:16.203664",
     "exception": false,
     "start_time": "2025-03-28T23:49:16.194058",
     "status": "completed"
    },
    "tags": []
   },
   "outputs": [
    {
     "name": "stdout",
     "output_type": "stream",
     "text": [
      "5\n"
     ]
    }
   ],
   "source": [
    "x = -10\n",
    "y = 5\n",
    "# # Which of the two variables above has the smallest absolute value?\n",
    "smallest_abs = min(x, y, key=abs)\n",
    "print(abs(smallest_abs))"
   ]
  },
  {
   "cell_type": "code",
   "execution_count": 12,
   "id": "b5bc5d77",
   "metadata": {
    "execution": {
     "iopub.execute_input": "2025-03-28T23:49:16.211744Z",
     "iopub.status.busy": "2025-03-28T23:49:16.211481Z",
     "iopub.status.idle": "2025-03-28T23:49:16.215312Z",
     "shell.execute_reply": "2025-03-28T23:49:16.214496Z"
    },
    "papermill": {
     "duration": 0.009082,
     "end_time": "2025-03-28T23:49:16.216462",
     "exception": false,
     "start_time": "2025-03-28T23:49:16.207380",
     "status": "completed"
    },
    "tags": []
   },
   "outputs": [
    {
     "name": "stdout",
     "output_type": "stream",
     "text": [
      "5\n"
     ]
    }
   ],
   "source": [
    "def f(x):\n",
    "    y = abs(x)\n",
    "    return y\n",
    "\n",
    "print(f(5)) "
   ]
  },
  {
   "cell_type": "markdown",
   "id": "14b5adc8",
   "metadata": {
    "papermill": {
     "duration": 0.003429,
     "end_time": "2025-03-28T23:49:16.223688",
     "exception": false,
     "start_time": "2025-03-28T23:49:16.220259",
     "status": "completed"
    },
    "tags": []
   },
   "source": [
    "# Keep Going\n",
    "\n",
    "Nice job with the code. Next up, you'll learn about *conditionals*, which you'll need to **[write interesting programs](https://www.kaggle.com/colinmorris/booleans-and-conditionals)**. "
   ]
  },
  {
   "cell_type": "markdown",
   "id": "d73038ea",
   "metadata": {
    "papermill": {
     "duration": 0.003391,
     "end_time": "2025-03-28T23:49:16.230557",
     "exception": false,
     "start_time": "2025-03-28T23:49:16.227166",
     "status": "completed"
    },
    "tags": []
   },
   "source": [
    "---\n",
    "\n",
    "\n",
    "\n",
    "\n",
    "*Have questions or comments? Visit the [course discussion forum](https://www.kaggle.com/learn/python/discussion) to chat with other learners.*"
   ]
  }
 ],
 "metadata": {
  "kaggle": {
   "accelerator": "none",
   "dataSources": [],
   "isGpuEnabled": false,
   "isInternetEnabled": false,
   "language": "python",
   "sourceType": "notebook"
  },
  "kernelspec": {
   "display_name": "Python 3",
   "language": "python",
   "name": "python3"
  },
  "language_info": {
   "codemirror_mode": {
    "name": "ipython",
    "version": 3
   },
   "file_extension": ".py",
   "mimetype": "text/x-python",
   "name": "python",
   "nbconvert_exporter": "python",
   "pygments_lexer": "ipython3",
   "version": "3.10.12"
  },
  "learntools_metadata": {
   "lesson_index": 1,
   "type": "exercise"
  },
  "papermill": {
   "default_parameters": {},
   "duration": 3.692012,
   "end_time": "2025-03-28T23:49:16.751570",
   "environment_variables": {},
   "exception": null,
   "input_path": "__notebook__.ipynb",
   "output_path": "__notebook__.ipynb",
   "parameters": {},
   "start_time": "2025-03-28T23:49:13.059558",
   "version": "2.6.0"
  }
 },
 "nbformat": 4,
 "nbformat_minor": 5
}
