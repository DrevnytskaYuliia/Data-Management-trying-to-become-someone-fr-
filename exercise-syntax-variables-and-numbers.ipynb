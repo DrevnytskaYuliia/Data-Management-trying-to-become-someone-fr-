{
 "cells": [
  {
   "cell_type": "markdown",
   "id": "2db457d4",
   "metadata": {
    "papermill": {
     "duration": 0.006466,
     "end_time": "2025-03-28T23:02:51.436689",
     "exception": false,
     "start_time": "2025-03-28T23:02:51.430223",
     "status": "completed"
    },
    "tags": []
   },
   "source": [
    "**This notebook is an exercise in the [Python](https://www.kaggle.com/learn/python) course.  You can reference the tutorial at [this link](https://www.kaggle.com/colinmorris/hello-python).**\n",
    "\n",
    "---\n"
   ]
  },
  {
   "cell_type": "markdown",
   "id": "0589533b",
   "metadata": {
    "papermill": {
     "duration": 0.005366,
     "end_time": "2025-03-28T23:02:51.448339",
     "exception": false,
     "start_time": "2025-03-28T23:02:51.442973",
     "status": "completed"
    },
    "tags": []
   },
   "source": [
    "Welcome to your first set of Python coding problems.  If this is your first time using Kaggle Notebooks, welcome! \n",
    "\n",
    "Notebooks are composed of blocks (called \"cells\") of text and code. Each of these is editable, though you'll mainly be editing the code cells to answer some questions.\n",
    "\n",
    "To get started, try running the code cell below (by pressing the ► button, or clicking on the cell and pressing ctrl+enter on your keyboard)."
   ]
  },
  {
   "cell_type": "code",
   "execution_count": 1,
   "id": "fdb3d86a",
   "metadata": {
    "execution": {
     "iopub.execute_input": "2025-03-28T23:02:51.460602Z",
     "iopub.status.busy": "2025-03-28T23:02:51.460233Z",
     "iopub.status.idle": "2025-03-28T23:02:51.470499Z",
     "shell.execute_reply": "2025-03-28T23:02:51.469141Z"
    },
    "papermill": {
     "duration": 0.018826,
     "end_time": "2025-03-28T23:02:51.472634",
     "exception": false,
     "start_time": "2025-03-28T23:02:51.453808",
     "status": "completed"
    },
    "tags": []
   },
   "outputs": [
    {
     "name": "stdout",
     "output_type": "stream",
     "text": [
      "You've successfully run some Python code\n",
      "Congratulations!\n"
     ]
    },
    {
     "data": {
      "text/plain": [
       "str"
      ]
     },
     "execution_count": 1,
     "metadata": {},
     "output_type": "execute_result"
    }
   ],
   "source": [
    "print(\"You've successfully run some Python code\")\n",
    "print(\"Congratulations!\")\n",
    "\n",
    "type(\"Congratulations!\")"
   ]
  },
  {
   "cell_type": "markdown",
   "id": "b651e08d",
   "metadata": {
    "papermill": {
     "duration": 0.005405,
     "end_time": "2025-03-28T23:02:51.484325",
     "exception": false,
     "start_time": "2025-03-28T23:02:51.478920",
     "status": "completed"
    },
    "tags": []
   },
   "source": [
    "Try adding another line of code in the cell above and re-running it. \n",
    "\n",
    "Now let's get a little fancier:  Add a new code cell by clicking on an existing code cell, hitting the escape key, and then hitting the `a` or `b` key.  The `a` key will add a cell above the current cell, and `b` adds a cell below.\n",
    "\n",
    "Great! Now you know how to use Notebooks.\n",
    "\n",
    "Each hands-on exercise starts by setting up our feedback and code checking mechanism. Run the code cell below to do that. Then you'll be ready to move on to question 0."
   ]
  },
  {
   "cell_type": "code",
   "execution_count": 2,
   "id": "237dcd6b",
   "metadata": {
    "_kg_hide-input": true,
    "_kg_hide-output": true,
    "execution": {
     "iopub.execute_input": "2025-03-28T23:02:51.497273Z",
     "iopub.status.busy": "2025-03-28T23:02:51.496936Z",
     "iopub.status.idle": "2025-03-28T23:02:52.533102Z",
     "shell.execute_reply": "2025-03-28T23:02:52.531864Z"
    },
    "papermill": {
     "duration": 1.044802,
     "end_time": "2025-03-28T23:02:52.534964",
     "exception": false,
     "start_time": "2025-03-28T23:02:51.490162",
     "status": "completed"
    },
    "tags": []
   },
   "outputs": [
    {
     "name": "stdout",
     "output_type": "stream",
     "text": [
      "Setup complete! You're ready to start question 0.\n"
     ]
    }
   ],
   "source": [
    "from learntools.core import binder; binder.bind(globals())\n",
    "from learntools.python.ex1 import *\n",
    "print(\"Setup complete! You're ready to start question 0.\")"
   ]
  },
  {
   "cell_type": "markdown",
   "id": "b6075989",
   "metadata": {
    "papermill": {
     "duration": 0.00584,
     "end_time": "2025-03-28T23:02:52.547137",
     "exception": false,
     "start_time": "2025-03-28T23:02:52.541297",
     "status": "completed"
    },
    "tags": []
   },
   "source": [
    "# 0.\n",
    "\n",
    "*This is a silly question intended as an introduction to the format we use for hands-on exercises throughout all Kaggle courses.*\n",
    "\n",
    "**What is your favorite color? **\n",
    "\n",
    "To complete this question, create a variable called `color` in the cell below with an appropriate value. The function call `q0.check()` (which we've already provided in the cell below) will check your answer."
   ]
  },
  {
   "cell_type": "code",
   "execution_count": 3,
   "id": "ea6fe4c3",
   "metadata": {
    "execution": {
     "iopub.execute_input": "2025-03-28T23:02:52.560548Z",
     "iopub.status.busy": "2025-03-28T23:02:52.560023Z",
     "iopub.status.idle": "2025-03-28T23:02:52.568104Z",
     "shell.execute_reply": "2025-03-28T23:02:52.566898Z"
    },
    "papermill": {
     "duration": 0.017147,
     "end_time": "2025-03-28T23:02:52.570013",
     "exception": false,
     "start_time": "2025-03-28T23:02:52.552866",
     "status": "completed"
    },
    "tags": []
   },
   "outputs": [
    {
     "data": {
      "application/javascript": [
       "parent.postMessage({\"jupyterEvent\": \"custom.exercise_interaction\", \"data\": {\"outcomeType\": 1, \"valueTowardsCompletion\": 0.25, \"interactionType\": 1, \"questionType\": 2, \"questionId\": \"0_ExerciseFormatTutorial\", \"learnToolsVersion\": \"0.3.4\", \"failureMessage\": \"\", \"exceptionClass\": \"\", \"trace\": \"\"}}, \"*\")"
      ],
      "text/plain": [
       "<IPython.core.display.Javascript object>"
      ]
     },
     "metadata": {},
     "output_type": "display_data"
    },
    {
     "data": {
      "text/markdown": [
       "<span style=\"color:#33cc33\">Correct:</span> What?! You got it right without needing a hint or anything? Drats. Well hey, you should still continue to the next step to get some practice asking for a hint and checking solutions. (Even though you obviously don't need any help here.)"
      ],
      "text/plain": [
       "Correct: What?! You got it right without needing a hint or anything? Drats. Well hey, you should still continue to the next step to get some practice asking for a hint and checking solutions. (Even though you obviously don't need any help here.)"
      ]
     },
     "metadata": {},
     "output_type": "display_data"
    }
   ],
   "source": [
    "# create a variable called color with an appropriate value on the line below\n",
    "# (Remember, strings in Python must be enclosed in 'single' or \"double\" quotes)\n",
    "color = \"Blue\"\n",
    "\n",
    "# Check your answer\n",
    "q0.check()"
   ]
  },
  {
   "cell_type": "markdown",
   "id": "7dff7b54",
   "metadata": {
    "papermill": {
     "duration": 0.005841,
     "end_time": "2025-03-28T23:02:52.582145",
     "exception": false,
     "start_time": "2025-03-28T23:02:52.576304",
     "status": "completed"
    },
    "tags": []
   },
   "source": [
    "Didn't get the right answer? How do you not even know your own favorite color?!\n",
    "\n",
    "Delete the `#` in the line below to make one of the lines run. You can choose between getting a hint or the full answer by choosing which line to remove the `#` from. \n",
    "\n",
    "Removing the `#` is called uncommenting, because it changes that line from a \"comment\" which Python doesn't run to code, which Python does run."
   ]
  },
  {
   "cell_type": "code",
   "execution_count": 4,
   "id": "ecbacc8c",
   "metadata": {
    "execution": {
     "iopub.execute_input": "2025-03-28T23:02:52.596093Z",
     "iopub.status.busy": "2025-03-28T23:02:52.595742Z",
     "iopub.status.idle": "2025-03-28T23:02:52.599614Z",
     "shell.execute_reply": "2025-03-28T23:02:52.598423Z"
    },
    "papermill": {
     "duration": 0.012836,
     "end_time": "2025-03-28T23:02:52.601451",
     "exception": false,
     "start_time": "2025-03-28T23:02:52.588615",
     "status": "completed"
    },
    "tags": []
   },
   "outputs": [],
   "source": [
    "#q0.hint()\n",
    "#q0.solution()"
   ]
  },
  {
   "cell_type": "markdown",
   "id": "60898cc0",
   "metadata": {
    "papermill": {
     "duration": 0.005745,
     "end_time": "2025-03-28T23:02:52.613586",
     "exception": false,
     "start_time": "2025-03-28T23:02:52.607841",
     "status": "completed"
    },
    "tags": []
   },
   "source": [
    "The upcoming questions work the same way. The only thing that will change are the question numbers. For the next question, you'll call `q1.check()`, `q1.hint()`, `q1.solution()`, for question 2, you'll call `q2.check()`, and so on."
   ]
  },
  {
   "cell_type": "markdown",
   "id": "0f00ac86",
   "metadata": {
    "papermill": {
     "duration": 0.005688,
     "end_time": "2025-03-28T23:02:52.625430",
     "exception": false,
     "start_time": "2025-03-28T23:02:52.619742",
     "status": "completed"
    },
    "tags": []
   },
   "source": [
    "<hr/>\n",
    "\n",
    "# 1.\n",
    "\n",
    "Complete the code below. In case it's helpful, here is the table of available arithmetic operations:\n",
    "\n",
    "\n",
    "\n",
    "| Operator     | Name           | Description                                            |\n",
    "|--------------|----------------|--------------------------------------------------------|\n",
    "| ``a + b``    | Addition       | Sum of ``a`` and ``b``                                 |\n",
    "| ``a - b``    | Subtraction    | Difference of ``a`` and ``b``                          |\n",
    "| ``a * b``    | Multiplication | Product of ``a`` and ``b``                             |\n",
    "| ``a / b``    | True division  | Quotient of ``a`` and ``b``                            |\n",
    "| ``a // b``   | Floor division | Quotient of ``a`` and ``b``, removing fractional parts |\n",
    "| ``a % b``    | Modulus        | Integer remainder after division of ``a`` by ``b``     |\n",
    "| ``a ** b``   | Exponentiation | ``a`` raised to the power of ``b``                     |\n",
    "| ``-a``       | Negation       | The negative of ``a``                                  |\n",
    "\n",
    "<span style=\"display:none\"></span>\n"
   ]
  },
  {
   "cell_type": "code",
   "execution_count": 5,
   "id": "60eeeb51",
   "metadata": {
    "execution": {
     "iopub.execute_input": "2025-03-28T23:02:52.639277Z",
     "iopub.status.busy": "2025-03-28T23:02:52.638946Z",
     "iopub.status.idle": "2025-03-28T23:02:52.647686Z",
     "shell.execute_reply": "2025-03-28T23:02:52.646560Z"
    },
    "papermill": {
     "duration": 0.017797,
     "end_time": "2025-03-28T23:02:52.649505",
     "exception": false,
     "start_time": "2025-03-28T23:02:52.631708",
     "status": "completed"
    },
    "tags": []
   },
   "outputs": [
    {
     "data": {
      "application/javascript": [
       "parent.postMessage({\"jupyterEvent\": \"custom.exercise_interaction\", \"data\": {\"outcomeType\": 1, \"valueTowardsCompletion\": 0.25, \"interactionType\": 1, \"questionType\": 1, \"questionId\": \"1_CircleArea\", \"learnToolsVersion\": \"0.3.4\", \"failureMessage\": \"\", \"exceptionClass\": \"\", \"trace\": \"\"}}, \"*\")"
      ],
      "text/plain": [
       "<IPython.core.display.Javascript object>"
      ]
     },
     "metadata": {},
     "output_type": "display_data"
    },
    {
     "data": {
      "text/markdown": [
       "<span style=\"color:#33cc33\">Correct</span>"
      ],
      "text/plain": [
       "Correct"
      ]
     },
     "metadata": {},
     "output_type": "display_data"
    }
   ],
   "source": [
    "pi = 3.14159 # approximate\n",
    "diameter = 3\n",
    "\n",
    "# Create a variable called 'radius' equal to half the diameter\n",
    "\n",
    "radius = diameter/2\n",
    "\n",
    "# Create a variable called 'area', using the formula for the area of a circle: pi times the radius squared\n",
    "area = pi * (radius ** 2)\n",
    "\n",
    "# Check your answer\n",
    "q1.check()"
   ]
  },
  {
   "cell_type": "code",
   "execution_count": 6,
   "id": "e256eb80",
   "metadata": {
    "execution": {
     "iopub.execute_input": "2025-03-28T23:02:52.663404Z",
     "iopub.status.busy": "2025-03-28T23:02:52.663071Z",
     "iopub.status.idle": "2025-03-28T23:02:52.667010Z",
     "shell.execute_reply": "2025-03-28T23:02:52.666049Z"
    },
    "papermill": {
     "duration": 0.012815,
     "end_time": "2025-03-28T23:02:52.668796",
     "exception": false,
     "start_time": "2025-03-28T23:02:52.655981",
     "status": "completed"
    },
    "tags": []
   },
   "outputs": [],
   "source": [
    "# Uncomment and run the lines below if you need help.\n",
    "# q1.hint()\n",
    "#q1.solution()"
   ]
  },
  {
   "cell_type": "markdown",
   "id": "a45b4e7e",
   "metadata": {
    "papermill": {
     "duration": 0.005718,
     "end_time": "2025-03-28T23:02:52.680786",
     "exception": false,
     "start_time": "2025-03-28T23:02:52.675068",
     "status": "completed"
    },
    "tags": []
   },
   "source": [
    "<hr/>\n",
    "\n",
    "# 2.\n",
    "\n",
    "Add code to the following cell to swap variables `a` and `b` (so that `a` refers to the object previously referred to by `b` and vice versa)."
   ]
  },
  {
   "cell_type": "code",
   "execution_count": 7,
   "id": "6c5c46d6",
   "metadata": {
    "execution": {
     "iopub.execute_input": "2025-03-28T23:02:52.694307Z",
     "iopub.status.busy": "2025-03-28T23:02:52.693953Z",
     "iopub.status.idle": "2025-03-28T23:02:52.702155Z",
     "shell.execute_reply": "2025-03-28T23:02:52.701087Z"
    },
    "papermill": {
     "duration": 0.017189,
     "end_time": "2025-03-28T23:02:52.704103",
     "exception": false,
     "start_time": "2025-03-28T23:02:52.686914",
     "status": "completed"
    },
    "tags": []
   },
   "outputs": [
    {
     "data": {
      "application/javascript": [
       "parent.postMessage({\"jupyterEvent\": \"custom.exercise_interaction\", \"data\": {\"outcomeType\": 1, \"valueTowardsCompletion\": 0.25, \"interactionType\": 1, \"questionType\": 2, \"questionId\": \"2_VariableSwap\", \"learnToolsVersion\": \"0.3.4\", \"failureMessage\": \"\", \"exceptionClass\": \"\", \"trace\": \"\"}}, \"*\")"
      ],
      "text/plain": [
       "<IPython.core.display.Javascript object>"
      ]
     },
     "metadata": {},
     "output_type": "display_data"
    },
    {
     "data": {
      "text/markdown": [
       "<span style=\"color:#33cc33\">Correct:</span> \n",
       "\n",
       "The most straightforward solution is to use a third variable to temporarily store one of the old values. e.g.:\n",
       "\n",
       "    tmp = a\n",
       "    a = b\n",
       "    b = tmp\n",
       "\n",
       "If you've read lots of Python code, you might have seen the following trick to swap two variables in one line:\n",
       "\n",
       "    a, b = b, a\n",
       "\n",
       "We'll demystify this bit of Python magic later when we talk about *tuples*."
      ],
      "text/plain": [
       "Correct: \n",
       "\n",
       "The most straightforward solution is to use a third variable to temporarily store one of the old values. e.g.:\n",
       "\n",
       "    tmp = a\n",
       "    a = b\n",
       "    b = tmp\n",
       "\n",
       "If you've read lots of Python code, you might have seen the following trick to swap two variables in one line:\n",
       "\n",
       "    a, b = b, a\n",
       "\n",
       "We'll demystify this bit of Python magic later when we talk about *tuples*."
      ]
     },
     "metadata": {},
     "output_type": "display_data"
    }
   ],
   "source": [
    "########### Setup code - don't touch this part ######################\n",
    "# If you're curious, these are examples of lists. We'll talk about \n",
    "# them in depth a few lessons from now. For now, just know that they're\n",
    "# yet another type of Python object, like int or float.\n",
    "a = [1, 2, 3]\n",
    "b = [3, 2, 1]\n",
    "q2.store_original_ids()\n",
    "######################################################################\n",
    "\n",
    "a, b = b, a\n",
    "\n",
    "######################################################################\n",
    "\n",
    "# Check your answer\n",
    "q2.check()"
   ]
  },
  {
   "cell_type": "code",
   "execution_count": 8,
   "id": "cd4d816f",
   "metadata": {
    "execution": {
     "iopub.execute_input": "2025-03-28T23:02:52.718834Z",
     "iopub.status.busy": "2025-03-28T23:02:52.718437Z",
     "iopub.status.idle": "2025-03-28T23:02:52.725988Z",
     "shell.execute_reply": "2025-03-28T23:02:52.724959Z"
    },
    "papermill": {
     "duration": 0.016767,
     "end_time": "2025-03-28T23:02:52.727584",
     "exception": false,
     "start_time": "2025-03-28T23:02:52.710817",
     "status": "completed"
    },
    "tags": []
   },
   "outputs": [
    {
     "data": {
      "application/javascript": [
       "parent.postMessage({\"jupyterEvent\": \"custom.exercise_interaction\", \"data\": {\"interactionType\": 2, \"questionType\": 2, \"questionId\": \"2_VariableSwap\", \"learnToolsVersion\": \"0.3.4\", \"valueTowardsCompletion\": 0.0, \"failureMessage\": \"\", \"exceptionClass\": \"\", \"trace\": \"\", \"outcomeType\": 4}}, \"*\")"
      ],
      "text/plain": [
       "<IPython.core.display.Javascript object>"
      ]
     },
     "metadata": {},
     "output_type": "display_data"
    },
    {
     "data": {
      "text/markdown": [
       "<span style=\"color:#3366cc\">Hint:</span> Try using a third variable."
      ],
      "text/plain": [
       "Hint: Try using a third variable."
      ]
     },
     "metadata": {},
     "output_type": "display_data"
    }
   ],
   "source": [
    "q2.hint()"
   ]
  },
  {
   "cell_type": "code",
   "execution_count": 9,
   "id": "e3accebf",
   "metadata": {
    "execution": {
     "iopub.execute_input": "2025-03-28T23:02:52.742090Z",
     "iopub.status.busy": "2025-03-28T23:02:52.741750Z",
     "iopub.status.idle": "2025-03-28T23:02:52.749035Z",
     "shell.execute_reply": "2025-03-28T23:02:52.748190Z"
    },
    "papermill": {
     "duration": 0.016453,
     "end_time": "2025-03-28T23:02:52.750812",
     "exception": false,
     "start_time": "2025-03-28T23:02:52.734359",
     "status": "completed"
    },
    "tags": []
   },
   "outputs": [
    {
     "data": {
      "application/javascript": [
       "parent.postMessage({\"jupyterEvent\": \"custom.exercise_interaction\", \"data\": {\"interactionType\": 3, \"questionType\": 2, \"questionId\": \"2_VariableSwap\", \"learnToolsVersion\": \"0.3.4\", \"valueTowardsCompletion\": 0.0, \"failureMessage\": \"\", \"exceptionClass\": \"\", \"trace\": \"\", \"outcomeType\": 4}}, \"*\")"
      ],
      "text/plain": [
       "<IPython.core.display.Javascript object>"
      ]
     },
     "metadata": {},
     "output_type": "display_data"
    },
    {
     "data": {
      "text/markdown": [
       "<span style=\"color:#33cc99\">Solution:</span> The most straightforward solution is to use a third variable to temporarily store one of the old values. e.g.:\n",
       "\n",
       "    tmp = a\n",
       "    a = b\n",
       "    b = tmp\n",
       "\n",
       "If you've read lots of Python code, you might have seen the following trick to swap two variables in one line:\n",
       "\n",
       "    a, b = b, a\n",
       "\n",
       "We'll demystify this bit of Python magic later when we talk about *tuples*."
      ],
      "text/plain": [
       "Solution: The most straightforward solution is to use a third variable to temporarily store one of the old values. e.g.:\n",
       "\n",
       "    tmp = a\n",
       "    a = b\n",
       "    b = tmp\n",
       "\n",
       "If you've read lots of Python code, you might have seen the following trick to swap two variables in one line:\n",
       "\n",
       "    a, b = b, a\n",
       "\n",
       "We'll demystify this bit of Python magic later when we talk about *tuples*."
      ]
     },
     "metadata": {},
     "output_type": "display_data"
    }
   ],
   "source": [
    "q2.solution()"
   ]
  },
  {
   "cell_type": "markdown",
   "id": "1584f7ac",
   "metadata": {
    "papermill": {
     "duration": 0.006511,
     "end_time": "2025-03-28T23:02:52.764539",
     "exception": false,
     "start_time": "2025-03-28T23:02:52.758028",
     "status": "completed"
    },
    "tags": []
   },
   "source": [
    "<hr/>\n",
    "\n",
    "# 3a.\n",
    "\n",
    "Add parentheses to the following expression so that it evaluates to 1."
   ]
  },
  {
   "cell_type": "code",
   "execution_count": 10,
   "id": "fa421898",
   "metadata": {
    "execution": {
     "iopub.execute_input": "2025-03-28T23:02:52.779448Z",
     "iopub.status.busy": "2025-03-28T23:02:52.779122Z",
     "iopub.status.idle": "2025-03-28T23:02:52.785359Z",
     "shell.execute_reply": "2025-03-28T23:02:52.784235Z"
    },
    "papermill": {
     "duration": 0.015734,
     "end_time": "2025-03-28T23:02:52.787060",
     "exception": false,
     "start_time": "2025-03-28T23:02:52.771326",
     "status": "completed"
    },
    "tags": []
   },
   "outputs": [
    {
     "data": {
      "text/plain": [
       "1"
      ]
     },
     "execution_count": 10,
     "metadata": {},
     "output_type": "execute_result"
    }
   ],
   "source": [
    "(5 - 3) // 2"
   ]
  },
  {
   "cell_type": "code",
   "execution_count": 11,
   "id": "050308bb",
   "metadata": {
    "execution": {
     "iopub.execute_input": "2025-03-28T23:02:52.802300Z",
     "iopub.status.busy": "2025-03-28T23:02:52.801972Z",
     "iopub.status.idle": "2025-03-28T23:02:52.806328Z",
     "shell.execute_reply": "2025-03-28T23:02:52.805121Z"
    },
    "papermill": {
     "duration": 0.014296,
     "end_time": "2025-03-28T23:02:52.808350",
     "exception": false,
     "start_time": "2025-03-28T23:02:52.794054",
     "status": "completed"
    },
    "tags": []
   },
   "outputs": [],
   "source": [
    "#q3.a.hint()"
   ]
  },
  {
   "cell_type": "code",
   "execution_count": 12,
   "id": "23fef352",
   "metadata": {
    "execution": {
     "iopub.execute_input": "2025-03-28T23:02:52.824290Z",
     "iopub.status.busy": "2025-03-28T23:02:52.823944Z",
     "iopub.status.idle": "2025-03-28T23:02:52.831584Z",
     "shell.execute_reply": "2025-03-28T23:02:52.830674Z"
    },
    "papermill": {
     "duration": 0.017567,
     "end_time": "2025-03-28T23:02:52.833321",
     "exception": false,
     "start_time": "2025-03-28T23:02:52.815754",
     "status": "completed"
    },
    "tags": []
   },
   "outputs": [
    {
     "data": {
      "application/javascript": [
       "parent.postMessage({\"jupyterEvent\": \"custom.exercise_interaction\", \"data\": {\"interactionType\": 3, \"questionType\": 4, \"questionId\": \"3.1_ArithmeticParensEasy\", \"learnToolsVersion\": \"0.3.4\", \"valueTowardsCompletion\": 0.0, \"failureMessage\": \"\", \"exceptionClass\": \"\", \"trace\": \"\", \"outcomeType\": 4}}, \"*\")"
      ],
      "text/plain": [
       "<IPython.core.display.Javascript object>"
      ]
     },
     "metadata": {},
     "output_type": "display_data"
    },
    {
     "data": {
      "text/markdown": [
       "<span style=\"color:#33cc99\">Solution:</span> \n",
       "```python\n",
       "(5 - 3) // 2\n",
       "```"
      ],
      "text/plain": [
       "Solution: \n",
       "```python\n",
       "(5 - 3) // 2\n",
       "```"
      ]
     },
     "metadata": {},
     "output_type": "display_data"
    }
   ],
   "source": [
    "# Check your answer (Run this code cell to receive credit!)\n",
    "q3.a.solution()"
   ]
  },
  {
   "cell_type": "markdown",
   "id": "b95925d2",
   "metadata": {
    "papermill": {
     "duration": 0.007102,
     "end_time": "2025-03-28T23:02:52.847999",
     "exception": false,
     "start_time": "2025-03-28T23:02:52.840897",
     "status": "completed"
    },
    "tags": []
   },
   "source": [
    "# 3b.  <span title=\"A bit spicy\" style=\"color: darkgreen \">🌶️</span>\n",
    "\n",
    "<small>Questions, like this one, marked a spicy pepper are a bit harder.</small>\n",
    "\n",
    "Add parentheses to the following expression so that it evaluates to 0."
   ]
  },
  {
   "cell_type": "code",
   "execution_count": 13,
   "id": "8a9330bc",
   "metadata": {
    "execution": {
     "iopub.execute_input": "2025-03-28T23:02:52.863660Z",
     "iopub.status.busy": "2025-03-28T23:02:52.863265Z",
     "iopub.status.idle": "2025-03-28T23:02:52.869021Z",
     "shell.execute_reply": "2025-03-28T23:02:52.867950Z"
    },
    "papermill": {
     "duration": 0.015659,
     "end_time": "2025-03-28T23:02:52.870878",
     "exception": false,
     "start_time": "2025-03-28T23:02:52.855219",
     "status": "completed"
    },
    "tags": []
   },
   "outputs": [
    {
     "data": {
      "text/plain": [
       "0"
      ]
     },
     "execution_count": 13,
     "metadata": {},
     "output_type": "execute_result"
    }
   ],
   "source": [
    "(8 - 3) * (2 - (1 + 1))"
   ]
  },
  {
   "cell_type": "code",
   "execution_count": 14,
   "id": "87df51d1",
   "metadata": {
    "execution": {
     "iopub.execute_input": "2025-03-28T23:02:52.886967Z",
     "iopub.status.busy": "2025-03-28T23:02:52.886579Z",
     "iopub.status.idle": "2025-03-28T23:02:52.890629Z",
     "shell.execute_reply": "2025-03-28T23:02:52.889550Z"
    },
    "papermill": {
     "duration": 0.014107,
     "end_time": "2025-03-28T23:02:52.892511",
     "exception": false,
     "start_time": "2025-03-28T23:02:52.878404",
     "status": "completed"
    },
    "tags": []
   },
   "outputs": [],
   "source": [
    "#q3.b.hint()"
   ]
  },
  {
   "cell_type": "code",
   "execution_count": 15,
   "id": "eb985c9d",
   "metadata": {
    "execution": {
     "iopub.execute_input": "2025-03-28T23:02:52.909248Z",
     "iopub.status.busy": "2025-03-28T23:02:52.908923Z",
     "iopub.status.idle": "2025-03-28T23:02:52.916583Z",
     "shell.execute_reply": "2025-03-28T23:02:52.915454Z"
    },
    "papermill": {
     "duration": 0.018482,
     "end_time": "2025-03-28T23:02:52.918414",
     "exception": false,
     "start_time": "2025-03-28T23:02:52.899932",
     "status": "completed"
    },
    "tags": []
   },
   "outputs": [
    {
     "data": {
      "application/javascript": [
       "parent.postMessage({\"jupyterEvent\": \"custom.exercise_interaction\", \"data\": {\"interactionType\": 3, \"questionType\": 4, \"questionId\": \"3.2_ArithmeticParensHard\", \"learnToolsVersion\": \"0.3.4\", \"valueTowardsCompletion\": 0.0, \"failureMessage\": \"\", \"exceptionClass\": \"\", \"trace\": \"\", \"outcomeType\": 4}}, \"*\")"
      ],
      "text/plain": [
       "<IPython.core.display.Javascript object>"
      ]
     },
     "metadata": {},
     "output_type": "display_data"
    },
    {
     "data": {
      "text/markdown": [
       "<span style=\"color:#33cc99\">Solution:</span> `(8 - 3) * (2 - (1 + 1))` is one solution. There may be others."
      ],
      "text/plain": [
       "Solution: `(8 - 3) * (2 - (1 + 1))` is one solution. There may be others."
      ]
     },
     "metadata": {},
     "output_type": "display_data"
    }
   ],
   "source": [
    "# Check your answer (Run this code cell to receive credit!)\n",
    "q3.b.solution()"
   ]
  },
  {
   "cell_type": "markdown",
   "id": "a9e4f2e2",
   "metadata": {
    "papermill": {
     "duration": 0.007364,
     "end_time": "2025-03-28T23:02:52.933398",
     "exception": false,
     "start_time": "2025-03-28T23:02:52.926034",
     "status": "completed"
    },
    "tags": []
   },
   "source": [
    "<hr/>\n",
    "\n",
    "# 4. \n",
    "Alice, Bob and Carol have agreed to pool their Halloween candy and split it evenly among themselves.\n",
    "For the sake of their friendship, any candies left over will be smashed. For example, if they collectively\n",
    "bring home 91 candies, they'll take 30 each and smash 1.\n",
    "\n",
    "Write an arithmetic expression below to calculate how many candies they must smash for a given haul."
   ]
  },
  {
   "cell_type": "code",
   "execution_count": 16,
   "id": "f5f91607",
   "metadata": {
    "execution": {
     "iopub.execute_input": "2025-03-28T23:02:52.949704Z",
     "iopub.status.busy": "2025-03-28T23:02:52.949298Z",
     "iopub.status.idle": "2025-03-28T23:02:52.957684Z",
     "shell.execute_reply": "2025-03-28T23:02:52.956543Z"
    },
    "papermill": {
     "duration": 0.018392,
     "end_time": "2025-03-28T23:02:52.959368",
     "exception": false,
     "start_time": "2025-03-28T23:02:52.940976",
     "status": "completed"
    },
    "tags": []
   },
   "outputs": [
    {
     "data": {
      "application/javascript": [
       "parent.postMessage({\"jupyterEvent\": \"custom.exercise_interaction\", \"data\": {\"outcomeType\": 1, \"valueTowardsCompletion\": 0.25, \"interactionType\": 1, \"questionType\": 1, \"questionId\": \"4_CandySplitting\", \"learnToolsVersion\": \"0.3.4\", \"failureMessage\": \"\", \"exceptionClass\": \"\", \"trace\": \"\"}}, \"*\")"
      ],
      "text/plain": [
       "<IPython.core.display.Javascript object>"
      ]
     },
     "metadata": {},
     "output_type": "display_data"
    },
    {
     "data": {
      "text/markdown": [
       "<span style=\"color:#33cc33\">Correct</span>"
      ],
      "text/plain": [
       "Correct"
      ]
     },
     "metadata": {},
     "output_type": "display_data"
    }
   ],
   "source": [
    "# Variables representing the number of candies collected by alice, bob, and carol\n",
    "alice_candies = 121\n",
    "bob_candies = 77\n",
    "carol_candies = 109\n",
    "\n",
    "\n",
    "# Your code goes here! Replace the right-hand side of this assignment with an expression\n",
    "# involving alice_candies, bob_candies, and carol_candies\n",
    "to_smash = (alice_candies + bob_candies + carol_candies) % 3\n",
    "\n",
    "# Check your answer\n",
    "q4.check()"
   ]
  },
  {
   "cell_type": "code",
   "execution_count": 17,
   "id": "86d953f0",
   "metadata": {
    "execution": {
     "iopub.execute_input": "2025-03-28T23:02:52.977140Z",
     "iopub.status.busy": "2025-03-28T23:02:52.976745Z",
     "iopub.status.idle": "2025-03-28T23:02:52.988285Z",
     "shell.execute_reply": "2025-03-28T23:02:52.987091Z"
    },
    "papermill": {
     "duration": 0.022149,
     "end_time": "2025-03-28T23:02:52.990158",
     "exception": false,
     "start_time": "2025-03-28T23:02:52.968009",
     "status": "completed"
    },
    "tags": []
   },
   "outputs": [
    {
     "data": {
      "application/javascript": [
       "parent.postMessage({\"jupyterEvent\": \"custom.exercise_interaction\", \"data\": {\"interactionType\": 2, \"questionType\": 1, \"questionId\": \"4_CandySplitting\", \"learnToolsVersion\": \"0.3.4\", \"valueTowardsCompletion\": 0.0, \"failureMessage\": \"\", \"exceptionClass\": \"\", \"trace\": \"\", \"outcomeType\": 4}}, \"*\")"
      ],
      "text/plain": [
       "<IPython.core.display.Javascript object>"
      ]
     },
     "metadata": {},
     "output_type": "display_data"
    },
    {
     "data": {
      "text/markdown": [
       "<span style=\"color:#3366cc\">Hint 2:</span> `j % k` is the remainder after dividing `j` by `k`"
      ],
      "text/plain": [
       "Hint 2: `j % k` is the remainder after dividing `j` by `k`"
      ]
     },
     "metadata": {},
     "output_type": "display_data"
    },
    {
     "data": {
      "application/javascript": [
       "parent.postMessage({\"jupyterEvent\": \"custom.exercise_interaction\", \"data\": {\"interactionType\": 3, \"questionType\": 1, \"questionId\": \"4_CandySplitting\", \"learnToolsVersion\": \"0.3.4\", \"valueTowardsCompletion\": 0.0, \"failureMessage\": \"\", \"exceptionClass\": \"\", \"trace\": \"\", \"outcomeType\": 4}}, \"*\")"
      ],
      "text/plain": [
       "<IPython.core.display.Javascript object>"
      ]
     },
     "metadata": {},
     "output_type": "display_data"
    },
    {
     "data": {
      "text/markdown": [
       "<span style=\"color:#33cc99\">Solution:</span> \n",
       "```python\n",
       "(alice_candies + bob_candies + carol_candies) % 3\n",
       "```"
      ],
      "text/plain": [
       "Solution: \n",
       "```python\n",
       "(alice_candies + bob_candies + carol_candies) % 3\n",
       "```"
      ]
     },
     "metadata": {},
     "output_type": "display_data"
    }
   ],
   "source": [
    "q4.hint(2)\n",
    "q4.solution()"
   ]
  },
  {
   "cell_type": "markdown",
   "id": "84ce633c",
   "metadata": {
    "papermill": {
     "duration": 0.007641,
     "end_time": "2025-03-28T23:02:53.006380",
     "exception": false,
     "start_time": "2025-03-28T23:02:52.998739",
     "status": "completed"
    },
    "tags": []
   },
   "source": [
    "# Keep Going\n",
    "\n",
    "Next up, you'll **[learn to write new functions and understand functions others write](https://www.kaggle.com/colinmorris/functions-and-getting-help)**. This will make you at least 10 times more productive as a Python programmer. "
   ]
  },
  {
   "cell_type": "markdown",
   "id": "307aec93",
   "metadata": {
    "papermill": {
     "duration": 0.007552,
     "end_time": "2025-03-28T23:02:53.021923",
     "exception": false,
     "start_time": "2025-03-28T23:02:53.014371",
     "status": "completed"
    },
    "tags": []
   },
   "source": [
    "---\n",
    "\n",
    "\n",
    "\n",
    "\n",
    "*Have questions or comments? Visit the [course discussion forum](https://www.kaggle.com/learn/python/discussion) to chat with other learners.*"
   ]
  }
 ],
 "metadata": {
  "kaggle": {
   "accelerator": "none",
   "dataSources": [],
   "isGpuEnabled": false,
   "isInternetEnabled": false,
   "language": "python",
   "sourceType": "notebook"
  },
  "kernelspec": {
   "display_name": "Python 3",
   "language": "python",
   "name": "python3"
  },
  "language_info": {
   "codemirror_mode": {
    "name": "ipython",
    "version": 3
   },
   "file_extension": ".py",
   "mimetype": "text/x-python",
   "name": "python",
   "nbconvert_exporter": "python",
   "pygments_lexer": "ipython3",
   "version": "3.10.12"
  },
  "learntools_metadata": {
   "lesson_index": 0,
   "type": "exercise"
  },
  "papermill": {
   "default_parameters": {},
   "duration": 5.171465,
   "end_time": "2025-03-28T23:02:53.651636",
   "environment_variables": {},
   "exception": null,
   "input_path": "__notebook__.ipynb",
   "output_path": "__notebook__.ipynb",
   "parameters": {},
   "start_time": "2025-03-28T23:02:48.480171",
   "version": "2.6.0"
  }
 },
 "nbformat": 4,
 "nbformat_minor": 5
}
